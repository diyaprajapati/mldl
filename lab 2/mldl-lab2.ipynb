{
 "cells": [
  {
   "cell_type": "code",
   "execution_count": 1,
   "id": "2fc60117",
   "metadata": {
    "execution": {
     "iopub.execute_input": "2025-07-09T09:22:13.748643Z",
     "iopub.status.busy": "2025-07-09T09:22:13.748271Z",
     "iopub.status.idle": "2025-07-09T09:22:15.659680Z",
     "shell.execute_reply": "2025-07-09T09:22:15.658684Z"
    },
    "papermill": {
     "duration": 1.919735,
     "end_time": "2025-07-09T09:22:15.661402",
     "exception": false,
     "start_time": "2025-07-09T09:22:13.741667",
     "status": "completed"
    },
    "tags": []
   },
   "outputs": [],
   "source": [
    "import pandas as pd\n",
    "import numpy as np"
   ]
  },
  {
   "cell_type": "code",
   "execution_count": 2,
   "id": "abc497cc",
   "metadata": {
    "execution": {
     "iopub.execute_input": "2025-07-09T09:22:15.672202Z",
     "iopub.status.busy": "2025-07-09T09:22:15.671734Z",
     "iopub.status.idle": "2025-07-09T09:22:15.692556Z",
     "shell.execute_reply": "2025-07-09T09:22:15.691684Z"
    },
    "papermill": {
     "duration": 0.027998,
     "end_time": "2025-07-09T09:22:15.694284",
     "exception": false,
     "start_time": "2025-07-09T09:22:15.666286",
     "status": "completed"
    },
    "tags": []
   },
   "outputs": [],
   "source": [
    "data = pd.read_csv(\"/kaggle/input/age-data/age data.csv\")"
   ]
  },
  {
   "cell_type": "code",
   "execution_count": 3,
   "id": "88016db8",
   "metadata": {
    "execution": {
     "iopub.execute_input": "2025-07-09T09:22:15.704698Z",
     "iopub.status.busy": "2025-07-09T09:22:15.704399Z",
     "iopub.status.idle": "2025-07-09T09:22:15.721327Z",
     "shell.execute_reply": "2025-07-09T09:22:15.720119Z"
    },
    "papermill": {
     "duration": 0.024163,
     "end_time": "2025-07-09T09:22:15.723266",
     "exception": false,
     "start_time": "2025-07-09T09:22:15.699103",
     "status": "completed"
    },
    "tags": []
   },
   "outputs": [
    {
     "data": {
      "text/plain": [
       "<bound method NDFrame.head of     Age  Weight\n",
       "0     5      18\n",
       "1     6      20\n",
       "2     7      19\n",
       "3     9      21\n",
       "4    10      32\n",
       "5    12      30\n",
       "6    13      25\n",
       "7    16      30\n",
       "8    15      30\n",
       "9    14      28\n",
       "10   19      40\n",
       "11   18      38\n",
       "12   20      40\n",
       "13   22      44\n",
       "14   23      45\n",
       "15   25      50\n",
       "16   27      52\n",
       "17   26      58\n",
       "18   30      52\n",
       "19   24      45>"
      ]
     },
     "execution_count": 3,
     "metadata": {},
     "output_type": "execute_result"
    }
   ],
   "source": [
    "data.head"
   ]
  },
  {
   "cell_type": "code",
   "execution_count": 4,
   "id": "541b13e4",
   "metadata": {
    "execution": {
     "iopub.execute_input": "2025-07-09T09:22:15.733820Z",
     "iopub.status.busy": "2025-07-09T09:22:15.733472Z",
     "iopub.status.idle": "2025-07-09T09:22:15.739623Z",
     "shell.execute_reply": "2025-07-09T09:22:15.738662Z"
    },
    "papermill": {
     "duration": 0.013238,
     "end_time": "2025-07-09T09:22:15.741256",
     "exception": false,
     "start_time": "2025-07-09T09:22:15.728018",
     "status": "completed"
    },
    "tags": []
   },
   "outputs": [],
   "source": [
    "X= data[\"Age\"]\n",
    "y= data[\"Weight\"]"
   ]
  },
  {
   "cell_type": "code",
   "execution_count": 5,
   "id": "04944961",
   "metadata": {
    "execution": {
     "iopub.execute_input": "2025-07-09T09:22:15.751717Z",
     "iopub.status.busy": "2025-07-09T09:22:15.751374Z",
     "iopub.status.idle": "2025-07-09T09:22:15.756023Z",
     "shell.execute_reply": "2025-07-09T09:22:15.755181Z"
    },
    "papermill": {
     "duration": 0.01153,
     "end_time": "2025-07-09T09:22:15.757472",
     "exception": false,
     "start_time": "2025-07-09T09:22:15.745942",
     "status": "completed"
    },
    "tags": []
   },
   "outputs": [],
   "source": [
    "n= len(data)\n",
    "x_bar = sum(X)/n\n",
    "y_bar = sum(y)/n"
   ]
  },
  {
   "cell_type": "code",
   "execution_count": 6,
   "id": "7c9a24de",
   "metadata": {
    "execution": {
     "iopub.execute_input": "2025-07-09T09:22:15.767709Z",
     "iopub.status.busy": "2025-07-09T09:22:15.767399Z",
     "iopub.status.idle": "2025-07-09T09:22:15.773245Z",
     "shell.execute_reply": "2025-07-09T09:22:15.772216Z"
    },
    "papermill": {
     "duration": 0.012701,
     "end_time": "2025-07-09T09:22:15.774765",
     "exception": false,
     "start_time": "2025-07-09T09:22:15.762064",
     "status": "completed"
    },
    "tags": []
   },
   "outputs": [],
   "source": [
    "#a= xi-x_bar\n",
    "#b= yi-y_bar\n",
    "a=[]\n",
    "b=[]\n",
    "z=[]\n",
    "for i in X:\n",
    "    temp = i-x_bar\n",
    "    #print(temp)\n",
    "    a.append(round(temp,2))\n",
    "    \n",
    "for j in y:\n",
    "    temp = j-y_bar\n",
    "    #print(temp)\n",
    "    b.append(round(temp,2))\n",
    "    \n",
    "for i in range(20):\n",
    "    temp = a[i]*b[i]\n",
    "    z.append(round(temp,2))"
   ]
  },
  {
   "cell_type": "code",
   "execution_count": 7,
   "id": "ec0b1821",
   "metadata": {
    "execution": {
     "iopub.execute_input": "2025-07-09T09:22:15.785375Z",
     "iopub.status.busy": "2025-07-09T09:22:15.785102Z",
     "iopub.status.idle": "2025-07-09T09:22:15.790854Z",
     "shell.execute_reply": "2025-07-09T09:22:15.789802Z"
    },
    "papermill": {
     "duration": 0.012815,
     "end_time": "2025-07-09T09:22:15.792444",
     "exception": false,
     "start_time": "2025-07-09T09:22:15.779629",
     "status": "completed"
    },
    "tags": []
   },
   "outputs": [],
   "source": [
    "def square_list(list_1):\n",
    "    squared_list=[]\n",
    "    for i in range(len(list_1)):\n",
    "        squared_list.append(list_1[i]*list_1[i])\n",
    "    return squared_list\n",
    "\n",
    "def multiply_list(l1,l2):\n",
    "    result = []\n",
    "    for i in range(len(l1)):\n",
    "        result.append(l1[i]*l2[i])\n",
    "    return result"
   ]
  },
  {
   "cell_type": "code",
   "execution_count": 8,
   "id": "294b329a",
   "metadata": {
    "execution": {
     "iopub.execute_input": "2025-07-09T09:22:15.802734Z",
     "iopub.status.busy": "2025-07-09T09:22:15.802438Z",
     "iopub.status.idle": "2025-07-09T09:22:15.807964Z",
     "shell.execute_reply": "2025-07-09T09:22:15.806908Z"
    },
    "papermill": {
     "duration": 0.012333,
     "end_time": "2025-07-09T09:22:15.809371",
     "exception": false,
     "start_time": "2025-07-09T09:22:15.797038",
     "status": "completed"
    },
    "tags": []
   },
   "outputs": [
    {
     "name": "stdout",
     "output_type": "stream",
     "text": [
      "[215.09250000000003, 175.1425, 169.34250000000003, 119.5425, 27.1425, 29.542499999999997, 43.942499999999995, 6.1425, 11.992499999999998, 23.9425, 8.092500000000001, 2.0425, 12.242500000000001, 40.3425, 54.4425, 112.4925, 160.69249999999997, 198.24249999999998, 209.14249999999998, 63.5925]\n"
     ]
    }
   ],
   "source": [
    "a_square = square_list(a)\n",
    "b_square = square_list(b)\n",
    "amultiplyb =multiply_list(a,b)\n",
    "sum_amultiplyb = sum(amultiplyb)\n",
    "print(amultiplyb)"
   ]
  },
  {
   "cell_type": "code",
   "execution_count": 9,
   "id": "7fad5d74",
   "metadata": {
    "execution": {
     "iopub.execute_input": "2025-07-09T09:22:15.819675Z",
     "iopub.status.busy": "2025-07-09T09:22:15.819386Z",
     "iopub.status.idle": "2025-07-09T09:22:15.823962Z",
     "shell.execute_reply": "2025-07-09T09:22:15.822828Z"
    },
    "papermill": {
     "duration": 0.011466,
     "end_time": "2025-07-09T09:22:15.825515",
     "exception": false,
     "start_time": "2025-07-09T09:22:15.814049",
     "status": "completed"
    },
    "tags": []
   },
   "outputs": [
    {
     "name": "stdout",
     "output_type": "stream",
     "text": [
      "1683.1499999999999\n"
     ]
    }
   ],
   "source": [
    "print(sum_amultiplyb)"
   ]
  },
  {
   "cell_type": "code",
   "execution_count": 10,
   "id": "a444db4b",
   "metadata": {
    "execution": {
     "iopub.execute_input": "2025-07-09T09:22:15.836556Z",
     "iopub.status.busy": "2025-07-09T09:22:15.836269Z",
     "iopub.status.idle": "2025-07-09T09:22:15.841839Z",
     "shell.execute_reply": "2025-07-09T09:22:15.841050Z"
    },
    "papermill": {
     "duration": 0.012873,
     "end_time": "2025-07-09T09:22:15.843664",
     "exception": false,
     "start_time": "2025-07-09T09:22:15.830791",
     "status": "completed"
    },
    "tags": []
   },
   "outputs": [
    {
     "data": {
      "text/plain": [
       "1.5716420000933748"
      ]
     },
     "execution_count": 10,
     "metadata": {},
     "output_type": "execute_result"
    }
   ],
   "source": [
    "sum_a_square = sum(a_square)\n",
    "m_slope = sum_amultiplyb/sum_a_square\n",
    "c_coefficient = y_bar - (m_slope*x_bar)\n",
    "m_slope"
   ]
  },
  {
   "cell_type": "code",
   "execution_count": 11,
   "id": "1d72f14a",
   "metadata": {
    "execution": {
     "iopub.execute_input": "2025-07-09T09:22:15.854358Z",
     "iopub.status.busy": "2025-07-09T09:22:15.854050Z",
     "iopub.status.idle": "2025-07-09T09:22:15.859645Z",
     "shell.execute_reply": "2025-07-09T09:22:15.858784Z"
    },
    "papermill": {
     "duration": 0.012719,
     "end_time": "2025-07-09T09:22:15.861201",
     "exception": false,
     "start_time": "2025-07-09T09:22:15.848482",
     "status": "completed"
    },
    "tags": []
   },
   "outputs": [
    {
     "data": {
      "text/plain": [
       "9.05350389840796"
      ]
     },
     "execution_count": 11,
     "metadata": {},
     "output_type": "execute_result"
    }
   ],
   "source": [
    "c_coefficient"
   ]
  },
  {
   "cell_type": "code",
   "execution_count": 12,
   "id": "606e5520",
   "metadata": {
    "execution": {
     "iopub.execute_input": "2025-07-09T09:22:15.872913Z",
     "iopub.status.busy": "2025-07-09T09:22:15.872100Z",
     "iopub.status.idle": "2025-07-09T09:22:15.878740Z",
     "shell.execute_reply": "2025-07-09T09:22:15.877799Z"
    },
    "papermill": {
     "duration": 0.01395,
     "end_time": "2025-07-09T09:22:15.880253",
     "exception": false,
     "start_time": "2025-07-09T09:22:15.866303",
     "status": "completed"
    },
    "tags": []
   },
   "outputs": [
    {
     "data": {
      "text/plain": [
       "[16.91,\n",
       " 18.48,\n",
       " 20.05,\n",
       " 23.2,\n",
       " 24.77,\n",
       " 27.91,\n",
       " 29.48,\n",
       " 34.2,\n",
       " 32.63,\n",
       " 31.06,\n",
       " 38.91,\n",
       " 37.34,\n",
       " 40.49,\n",
       " 43.63,\n",
       " 45.2,\n",
       " 48.34,\n",
       " 51.49,\n",
       " 49.92,\n",
       " 56.2,\n",
       " 46.77]"
      ]
     },
     "execution_count": 12,
     "metadata": {},
     "output_type": "execute_result"
    }
   ],
   "source": [
    "y_pred=[]\n",
    "for i in X:\n",
    "    y_pred.append(round(m_slope*i + c_coefficient,2))\n",
    "\n",
    "y_pred"
   ]
  },
  {
   "cell_type": "code",
   "execution_count": 13,
   "id": "fb5e6407",
   "metadata": {
    "execution": {
     "iopub.execute_input": "2025-07-09T09:22:15.891514Z",
     "iopub.status.busy": "2025-07-09T09:22:15.891173Z",
     "iopub.status.idle": "2025-07-09T09:22:15.895332Z",
     "shell.execute_reply": "2025-07-09T09:22:15.894562Z"
    },
    "papermill": {
     "duration": 0.011411,
     "end_time": "2025-07-09T09:22:15.896662",
     "exception": false,
     "start_time": "2025-07-09T09:22:15.885251",
     "status": "completed"
    },
    "tags": []
   },
   "outputs": [],
   "source": [
    "y_25 = m_slope*25+c_coefficient"
   ]
  },
  {
   "cell_type": "code",
   "execution_count": 14,
   "id": "35b679fc",
   "metadata": {
    "execution": {
     "iopub.execute_input": "2025-07-09T09:22:15.908042Z",
     "iopub.status.busy": "2025-07-09T09:22:15.907696Z",
     "iopub.status.idle": "2025-07-09T09:22:15.913212Z",
     "shell.execute_reply": "2025-07-09T09:22:15.912289Z"
    },
    "papermill": {
     "duration": 0.012755,
     "end_time": "2025-07-09T09:22:15.914722",
     "exception": false,
     "start_time": "2025-07-09T09:22:15.901967",
     "status": "completed"
    },
    "tags": []
   },
   "outputs": [
    {
     "data": {
      "text/plain": [
       "48.34455390074233"
      ]
     },
     "execution_count": 14,
     "metadata": {},
     "output_type": "execute_result"
    }
   ],
   "source": [
    "y_25"
   ]
  },
  {
   "cell_type": "code",
   "execution_count": 15,
   "id": "628432ce",
   "metadata": {
    "execution": {
     "iopub.execute_input": "2025-07-09T09:22:15.925909Z",
     "iopub.status.busy": "2025-07-09T09:22:15.925582Z",
     "iopub.status.idle": "2025-07-09T09:22:17.737951Z",
     "shell.execute_reply": "2025-07-09T09:22:17.736920Z"
    },
    "papermill": {
     "duration": 1.819829,
     "end_time": "2025-07-09T09:22:17.739570",
     "exception": false,
     "start_time": "2025-07-09T09:22:15.919741",
     "status": "completed"
    },
    "tags": []
   },
   "outputs": [],
   "source": [
    "from sklearn import datasets, linear_model, metrics\n",
    "import pandas as pd\n",
    "import matplotlib.pyplot as plt"
   ]
  },
  {
   "cell_type": "code",
   "execution_count": 16,
   "id": "c30be906",
   "metadata": {
    "execution": {
     "iopub.execute_input": "2025-07-09T09:22:17.751101Z",
     "iopub.status.busy": "2025-07-09T09:22:17.750643Z",
     "iopub.status.idle": "2025-07-09T09:22:18.023466Z",
     "shell.execute_reply": "2025-07-09T09:22:18.022417Z"
    },
    "papermill": {
     "duration": 0.280354,
     "end_time": "2025-07-09T09:22:18.025154",
     "exception": false,
     "start_time": "2025-07-09T09:22:17.744800",
     "status": "completed"
    },
    "tags": []
   },
   "outputs": [
    {
     "data": {
      "text/plain": [
       "<matplotlib.collections.PathCollection at 0x7ca7cd44cf50>"
      ]
     },
     "execution_count": 16,
     "metadata": {},
     "output_type": "execute_result"
    },
    {
     "data": {
      "image/png": "[encoded data removed]",
      "text/plain": [
       "<Figure size 640x480 with 1 Axes>"
      ]
     },
     "metadata": {},
     "output_type": "display_data"
    }
   ],
   "source": [
    "plt.scatter(X,y)"
   ]
  },
  {
   "cell_type": "code",
   "execution_count": 17,
   "id": "7178a2b4",
   "metadata": {
    "execution": {
     "iopub.execute_input": "2025-07-09T09:22:18.037687Z",
     "iopub.status.busy": "2025-07-09T09:22:18.037386Z",
     "iopub.status.idle": "2025-07-09T09:22:18.295762Z",
     "shell.execute_reply": "2025-07-09T09:22:18.294893Z"
    },
    "papermill": {
     "duration": 0.266678,
     "end_time": "2025-07-09T09:22:18.297327",
     "exception": false,
     "start_time": "2025-07-09T09:22:18.030649",
     "status": "completed"
    },
    "tags": []
   },
   "outputs": [
    {
     "data": {
      "text/plain": [
       "[<matplotlib.lines.Line2D at 0x7ca7ca806bd0>]"
      ]
     },
     "execution_count": 17,
     "metadata": {},
     "output_type": "execute_result"
    },
    {
     "data": {
      "image/png": "[encoded data removed]",
      "text/plain": [
       "<Figure size 640x480 with 1 Axes>"
      ]
     },
     "metadata": {},
     "output_type": "display_data"
    }
   ],
   "source": [
    "plt.plot(X,y_pred)"
   ]
  },
  {
   "cell_type": "code",
   "execution_count": 18,
   "id": "46977b0c",
   "metadata": {
    "execution": {
     "iopub.execute_input": "2025-07-09T09:22:18.310296Z",
     "iopub.status.busy": "2025-07-09T09:22:18.309971Z",
     "iopub.status.idle": "2025-07-09T09:22:18.480852Z",
     "shell.execute_reply": "2025-07-09T09:22:18.479900Z"
    },
    "papermill": {
     "duration": 0.179199,
     "end_time": "2025-07-09T09:22:18.482529",
     "exception": false,
     "start_time": "2025-07-09T09:22:18.303330",
     "status": "completed"
    },
    "tags": []
   },
   "outputs": [
    {
     "data": {
      "text/plain": [
       "[<matplotlib.lines.Line2D at 0x7ca7ca6fa890>]"
      ]
     },
     "execution_count": 18,
     "metadata": {},
     "output_type": "execute_result"
    },
    {
     "data": {
      "image/png": "[encoded data removed]",
      "text/plain": [
       "<Figure size 640x480 with 1 Axes>"
      ]
     },
     "metadata": {},
     "output_type": "display_data"
    }
   ],
   "source": [
    "plt.plot(X,y)"
   ]
  },
  {
   "cell_type": "code",
   "execution_count": 19,
   "id": "8f8316d1",
   "metadata": {
    "execution": {
     "iopub.execute_input": "2025-07-09T09:22:18.496822Z",
     "iopub.status.busy": "2025-07-09T09:22:18.496468Z",
     "iopub.status.idle": "2025-07-09T09:22:18.501073Z",
     "shell.execute_reply": "2025-07-09T09:22:18.500178Z"
    },
    "papermill": {
     "duration": 0.013718,
     "end_time": "2025-07-09T09:22:18.502757",
     "exception": false,
     "start_time": "2025-07-09T09:22:18.489039",
     "status": "completed"
    },
    "tags": []
   },
   "outputs": [],
   "source": [
    "X_n=np.array(X)\n",
    "y_n= np.array(y)"
   ]
  },
  {
   "cell_type": "code",
   "execution_count": 20,
   "id": "74bd2908",
   "metadata": {
    "execution": {
     "iopub.execute_input": "2025-07-09T09:22:18.516561Z",
     "iopub.status.busy": "2025-07-09T09:22:18.516272Z",
     "iopub.status.idle": "2025-07-09T09:22:18.520983Z",
     "shell.execute_reply": "2025-07-09T09:22:18.519897Z"
    },
    "papermill": {
     "duration": 0.013494,
     "end_time": "2025-07-09T09:22:18.522681",
     "exception": false,
     "start_time": "2025-07-09T09:22:18.509187",
     "status": "completed"
    },
    "tags": []
   },
   "outputs": [],
   "source": [
    "X_r=X_n.reshape(-1,1)\n",
    "y_r= y_n.reshape(-1,1)"
   ]
  },
  {
   "cell_type": "code",
   "execution_count": 21,
   "id": "f6400e8d",
   "metadata": {
    "execution": {
     "iopub.execute_input": "2025-07-09T09:22:18.537660Z",
     "iopub.status.busy": "2025-07-09T09:22:18.537374Z",
     "iopub.status.idle": "2025-07-09T09:22:18.563139Z",
     "shell.execute_reply": "2025-07-09T09:22:18.562227Z"
    },
    "papermill": {
     "duration": 0.035004,
     "end_time": "2025-07-09T09:22:18.564735",
     "exception": false,
     "start_time": "2025-07-09T09:22:18.529731",
     "status": "completed"
    },
    "tags": []
   },
   "outputs": [
    {
     "data": {
      "text/html": [
       "<style>#sk-container-id-1 {color: black;background-color: white;}#sk-container-id-1 pre{padding: 0;}#sk-container-id-1 div.sk-toggleable {background-color: white;}#sk-container-id-1 label.sk-toggleable__label {cursor: pointer;display: block;width: 100%;margin-bottom: 0;padding: 0.3em;box-sizing: border-box;text-align: center;}#sk-container-id-1 label.sk-toggleable__label-arrow:before {content: \"▸\";float: left;margin-right: 0.25em;color: #696969;}#sk-container-id-1 label.sk-toggleable__label-arrow:hover:before {color: black;}#sk-container-id-1 div.sk-estimator:hover label.sk-toggleable__label-arrow:before {color: black;}#sk-container-id-1 div.sk-toggleable__content {max-height: 0;max-width: 0;overflow: hidden;text-align: left;background-color: #f0f8ff;}#sk-container-id-1 div.sk-toggleable__content pre {margin: 0.2em;color: black;border-radius: 0.25em;background-color: #f0f8ff;}#sk-container-id-1 input.sk-toggleable__control:checked~div.sk-toggleable__content {max-height: 200px;max-width: 100%;overflow: auto;}#sk-container-id-1 input.sk-toggleable__control:checked~label.sk-toggleable__label-arrow:before {content: \"▾\";}#sk-container-id-1 div.sk-estimator input.sk-toggleable__control:checked~label.sk-toggleable__label {background-color: #d4ebff;}#sk-container-id-1 div.sk-label input.sk-toggleable__control:checked~label.sk-toggleable__label {background-color: #d4ebff;}#sk-container-id-1 input.sk-hidden--visually {border: 0;clip: rect(1px 1px 1px 1px);clip: rect(1px, 1px, 1px, 1px);height: 1px;margin: -1px;overflow: hidden;padding: 0;position: absolute;width: 1px;}#sk-container-id-1 div.sk-estimator {font-family: monospace;background-color: #f0f8ff;border: 1px dotted black;border-radius: 0.25em;box-sizing: border-box;margin-bottom: 0.5em;}#sk-container-id-1 div.sk-estimator:hover {background-color: #d4ebff;}#sk-container-id-1 div.sk-parallel-item::after {content: \"\";width: 100%;border-bottom: 1px solid gray;flex-grow: 1;}#sk-container-id-1 div.sk-label:hover label.sk-toggleable__label {background-color: #d4ebff;}#sk-container-id-1 div.sk-serial::before {content: \"\";position: absolute;border-left: 1px solid gray;box-sizing: border-box;top: 0;bottom: 0;left: 50%;z-index: 0;}#sk-container-id-1 div.sk-serial {display: flex;flex-direction: column;align-items: center;background-color: white;padding-right: 0.2em;padding-left: 0.2em;position: relative;}#sk-container-id-1 div.sk-item {position: relative;z-index: 1;}#sk-container-id-1 div.sk-parallel {display: flex;align-items: stretch;justify-content: center;background-color: white;position: relative;}#sk-container-id-1 div.sk-item::before, #sk-container-id-1 div.sk-parallel-item::before {content: \"\";position: absolute;border-left: 1px solid gray;box-sizing: border-box;top: 0;bottom: 0;left: 50%;z-index: -1;}#sk-container-id-1 div.sk-parallel-item {display: flex;flex-direction: column;z-index: 1;position: relative;background-color: white;}#sk-container-id-1 div.sk-parallel-item:first-child::after {align-self: flex-end;width: 50%;}#sk-container-id-1 div.sk-parallel-item:last-child::after {align-self: flex-start;width: 50%;}#sk-container-id-1 div.sk-parallel-item:only-child::after {width: 0;}#sk-container-id-1 div.sk-dashed-wrapped {border: 1px dashed gray;margin: 0 0.4em 0.5em 0.4em;box-sizing: border-box;padding-bottom: 0.4em;background-color: white;}#sk-container-id-1 div.sk-label label {font-family: monospace;font-weight: bold;display: inline-block;line-height: 1.2em;}#sk-container-id-1 div.sk-label-container {text-align: center;}#sk-container-id-1 div.sk-container {/* jupyter's `normalize.less` sets `[hidden] { display: none; }` but bootstrap.min.css set `[hidden] { display: none !important; }` so we also need the `!important` here to be able to override the default hidden behavior on the sphinx rendered scikit-learn.org. See: https://github.com/scikit-learn/scikit-learn/issues/21755 */display: inline-block !important;position: relative;}#sk-container-id-1 div.sk-text-repr-fallback {display: none;}</style><div id=\"sk-container-id-1\" class=\"sk-top-container\"><div class=\"sk-text-repr-fallback\"><pre>LinearRegression()</pre><b>In a Jupyter environment, please rerun this cell to show the HTML representation or trust the notebook. <br />On GitHub, the HTML representation is unable to render, please try loading this page with nbviewer.org.</b></div><div class=\"sk-container\" hidden><div class=\"sk-item\"><div class=\"sk-estimator sk-toggleable\"><input class=\"sk-toggleable__control sk-hidden--visually\" id=\"sk-estimator-id-1\" type=\"checkbox\" checked><label for=\"sk-estimator-id-1\" class=\"sk-toggleable__label sk-toggleable__label-arrow\">LinearRegression</label><div class=\"sk-toggleable__content\"><pre>LinearRegression()</pre></div></div></div></div></div>"
      ],
      "text/plain": [
       "LinearRegression()"
      ]
     },
     "execution_count": 21,
     "metadata": {},
     "output_type": "execute_result"
    }
   ],
   "source": [
    "reg = linear_model.LinearRegression()\n",
    "reg.fit(X_r,y_r)"
   ]
  },
  {
   "cell_type": "code",
   "execution_count": 22,
   "id": "e32fea45",
   "metadata": {
    "execution": {
     "iopub.execute_input": "2025-07-09T09:22:18.579616Z",
     "iopub.status.busy": "2025-07-09T09:22:18.579288Z",
     "iopub.status.idle": "2025-07-09T09:22:18.584904Z",
     "shell.execute_reply": "2025-07-09T09:22:18.584198Z"
    },
    "papermill": {
     "duration": 0.014562,
     "end_time": "2025-07-09T09:22:18.586208",
     "exception": false,
     "start_time": "2025-07-09T09:22:18.571646",
     "status": "completed"
    },
    "tags": []
   },
   "outputs": [
    {
     "data": {
      "text/plain": [
       "array([[1.571642]])"
      ]
     },
     "execution_count": 22,
     "metadata": {},
     "output_type": "execute_result"
    }
   ],
   "source": [
    "reg.coef_"
   ]
  },
  {
   "cell_type": "code",
   "execution_count": 23,
   "id": "96d02737",
   "metadata": {
    "execution": {
     "iopub.execute_input": "2025-07-09T09:22:18.600894Z",
     "iopub.status.busy": "2025-07-09T09:22:18.600197Z",
     "iopub.status.idle": "2025-07-09T09:22:18.604501Z",
     "shell.execute_reply": "2025-07-09T09:22:18.603640Z"
    },
    "papermill": {
     "duration": 0.013165,
     "end_time": "2025-07-09T09:22:18.606067",
     "exception": false,
     "start_time": "2025-07-09T09:22:18.592902",
     "status": "completed"
    },
    "tags": []
   },
   "outputs": [],
   "source": [
    "y_pred_2 = reg.predict(X_r)"
   ]
  },
  {
   "cell_type": "code",
   "execution_count": 24,
   "id": "89073cd9",
   "metadata": {
    "execution": {
     "iopub.execute_input": "2025-07-09T09:22:18.621245Z",
     "iopub.status.busy": "2025-07-09T09:22:18.620933Z",
     "iopub.status.idle": "2025-07-09T09:22:18.781771Z",
     "shell.execute_reply": "2025-07-09T09:22:18.780958Z"
    },
    "papermill": {
     "duration": 0.170138,
     "end_time": "2025-07-09T09:22:18.783238",
     "exception": false,
     "start_time": "2025-07-09T09:22:18.613100",
     "status": "completed"
    },
    "tags": []
   },
   "outputs": [
    {
     "data": {
      "text/plain": [
       "[<matplotlib.lines.Line2D at 0x7ca7ca7a4550>]"
      ]
     },
     "execution_count": 24,
     "metadata": {},
     "output_type": "execute_result"
    },
    {
     "data": {
      "image/png": "[encoded data removed]",
      "text/plain": [
       "<Figure size 640x480 with 1 Axes>"
      ]
     },
     "metadata": {},
     "output_type": "display_data"
    }
   ],
   "source": [
    "plt.scatter(X_r, y_r)\n",
    "plt.plot(X_r, y_pred_2)"
   ]
  },
  {
   "cell_type": "code",
   "execution_count": 25,
   "id": "19de7baf",
   "metadata": {
    "execution": {
     "iopub.execute_input": "2025-07-09T09:22:18.799695Z",
     "iopub.status.busy": "2025-07-09T09:22:18.799412Z",
     "iopub.status.idle": "2025-07-09T09:22:18.805348Z",
     "shell.execute_reply": "2025-07-09T09:22:18.804544Z"
    },
    "papermill": {
     "duration": 0.016228,
     "end_time": "2025-07-09T09:22:18.806939",
     "exception": false,
     "start_time": "2025-07-09T09:22:18.790711",
     "status": "completed"
    },
    "tags": []
   },
   "outputs": [
    {
     "data": {
      "text/plain": [
       "array([9.0535039])"
      ]
     },
     "execution_count": 25,
     "metadata": {},
     "output_type": "execute_result"
    }
   ],
   "source": [
    "reg.intercept_"
   ]
  },
  {
   "cell_type": "code",
   "execution_count": 26,
   "id": "35d1c0a8",
   "metadata": {
    "execution": {
     "iopub.execute_input": "2025-07-09T09:22:18.822995Z",
     "iopub.status.busy": "2025-07-09T09:22:18.822627Z",
     "iopub.status.idle": "2025-07-09T09:22:18.838355Z",
     "shell.execute_reply": "2025-07-09T09:22:18.837221Z"
    },
    "papermill": {
     "duration": 0.025649,
     "end_time": "2025-07-09T09:22:18.839971",
     "exception": false,
     "start_time": "2025-07-09T09:22:18.814322",
     "status": "completed"
    },
    "tags": []
   },
   "outputs": [
    {
     "data": {
      "text/html": [
       "<div>\n",
       "<style scoped>\n",
       "    .dataframe tbody tr th:only-of-type {\n",
       "        vertical-align: middle;\n",
       "    }\n",
       "\n",
       "    .dataframe tbody tr th {\n",
       "        vertical-align: top;\n",
       "    }\n",
       "\n",
       "    .dataframe thead th {\n",
       "        text-align: right;\n",
       "    }\n",
       "</style>\n",
       "<table border=\"1\" class=\"dataframe\">\n",
       "  <thead>\n",
       "    <tr style=\"text-align: right;\">\n",
       "      <th></th>\n",
       "      <th>Coeff</th>\n",
       "    </tr>\n",
       "  </thead>\n",
       "  <tbody>\n",
       "    <tr>\n",
       "      <th>0</th>\n",
       "      <td>1.571642</td>\n",
       "    </tr>\n",
       "  </tbody>\n",
       "</table>\n",
       "</div>"
      ],
      "text/plain": [
       "      Coeff\n",
       "0  1.571642"
      ]
     },
     "execution_count": 26,
     "metadata": {},
     "output_type": "execute_result"
    }
   ],
   "source": [
    "pd.DataFrame(reg.coef_, columns = ['Coeff'])"
   ]
  }
 ],
 "metadata": {
  "kaggle": {
   "accelerator": "none",
   "dataSources": [
    {
     "datasetId": 7832246,
     "sourceId": 12418347,
     "sourceType": "datasetVersion"
    }
   ],
   "dockerImageVersionId": 31089,
   "isGpuEnabled": false,
   "isInternetEnabled": false,
   "language": "python",
   "sourceType": "notebook"
  },
  "kernelspec": {
   "display_name": "Python 3",
   "language": "python",
   "name": "python3"
  },
  "language_info": {
   "codemirror_mode": {
    "name": "ipython",
    "version": 3
   },
   "file_extension": ".py",
   "mimetype": "text/x-python",
   "name": "python",
   "nbconvert_exporter": "python",
   "pygments_lexer": "ipython3",
   "version": "3.11.13"
  },
  "papermill": {
   "default_parameters": {},
   "duration": 10.693359,
   "end_time": "2025-07-09T09:22:19.567023",
   "environment_variables": {},
   "exception": null,
   "input_path": "__notebook__.ipynb",
   "output_path": "__notebook__.ipynb",
   "parameters": {},
   "start_time": "2025-07-09T09:22:08.873664",
   "version": "2.5.0"
  }
 },
 "nbformat": 4,
 "nbformat_minor": 5
}

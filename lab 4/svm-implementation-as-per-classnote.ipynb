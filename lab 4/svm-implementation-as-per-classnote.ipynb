{
 "cells": [
  {
   "cell_type": "code",
   "execution_count": 1,
   "id": "9c13bb5a",
   "metadata": {
    "execution": {
     "iopub.execute_input": "2025-07-23T05:50:40.067561Z",
     "iopub.status.busy": "2025-07-23T05:50:40.067190Z",
     "iopub.status.idle": "2025-07-23T05:50:42.901630Z",
     "shell.execute_reply": "2025-07-23T05:50:42.900476Z"
    },
    "papermill": {
     "duration": 2.843954,
     "end_time": "2025-07-23T05:50:42.904131",
     "exception": false,
     "start_time": "2025-07-23T05:50:40.060177",
     "status": "completed"
    },
    "tags": []
   },
   "outputs": [],
   "source": [
    "import numpy as np\n",
    "import pandas as pd\n",
    "import matplotlib.pyplot as plt\n",
    "from sklearn.datasets import make_blobs\n",
    "from sklearn.svm import SVC\n",
    "from sklearn.model_selection import train_test_split\n",
    "from sklearn.metrics import accuracy_score\n",
    "from sklearn.metrics import mean_squared_error\n",
    "import random"
   ]
  },
  {
   "cell_type": "code",
   "execution_count": null,
   "id": "75da73c2",
   "metadata": {
    "papermill": {
     "duration": 0.005109,
     "end_time": "2025-07-23T05:50:42.914432",
     "exception": false,
     "start_time": "2025-07-23T05:50:42.909323",
     "status": "completed"
    },
    "tags": []
   },
   "outputs": [],
   "source": []
  },
  {
   "cell_type": "code",
   "execution_count": 2,
   "id": "24f83094",
   "metadata": {
    "execution": {
     "iopub.execute_input": "2025-07-23T05:50:42.927132Z",
     "iopub.status.busy": "2025-07-23T05:50:42.926634Z",
     "iopub.status.idle": "2025-07-23T05:50:42.934297Z",
     "shell.execute_reply": "2025-07-23T05:50:42.933273Z"
    },
    "papermill": {
     "duration": 0.016363,
     "end_time": "2025-07-23T05:50:42.936472",
     "exception": false,
     "start_time": "2025-07-23T05:50:42.920109",
     "status": "completed"
    },
    "tags": []
   },
   "outputs": [],
   "source": [
    "X, y = make_blobs(n_samples=200, centers=2) # prdefined sklearn method to generate rough data for practice here center may be 2 classes"
   ]
  },
  {
   "cell_type": "code",
   "execution_count": 3,
   "id": "8c6fba19",
   "metadata": {
    "execution": {
     "iopub.execute_input": "2025-07-23T05:50:42.948211Z",
     "iopub.status.busy": "2025-07-23T05:50:42.947800Z",
     "iopub.status.idle": "2025-07-23T05:50:42.962096Z",
     "shell.execute_reply": "2025-07-23T05:50:42.960882Z"
    },
    "papermill": {
     "duration": 0.022694,
     "end_time": "2025-07-23T05:50:42.964267",
     "exception": false,
     "start_time": "2025-07-23T05:50:42.941573",
     "status": "completed"
    },
    "tags": []
   },
   "outputs": [
    {
     "data": {
      "text/plain": [
       "array([[ -6.85482621,  -8.88357255],\n",
       "       [ -3.31044119,  -5.69502416],\n",
       "       [ -5.58195882,  -8.90679469],\n",
       "       [ -3.57179941, -10.42960255],\n",
       "       [ -1.80754736,  -6.3143385 ],\n",
       "       [ -6.84450484,  -9.46592372],\n",
       "       [ -2.23686372,  -4.87225294],\n",
       "       [ -1.74980362,  -6.16082608],\n",
       "       [ -6.37747305,  -9.54972308],\n",
       "       [ -6.02810686,  -9.01946826],\n",
       "       [ -5.70190976, -10.13806353],\n",
       "       [ -5.98366128, -11.07843767],\n",
       "       [ -4.45994405,  -7.55643485],\n",
       "       [ -2.20767483,  -5.59555014],\n",
       "       [ -2.24512884,  -4.37463833],\n",
       "       [ -5.8146879 , -10.5813691 ],\n",
       "       [ -4.51900662,  -4.80306404],\n",
       "       [ -6.24073516,  -9.61331213],\n",
       "       [ -1.9363748 ,  -4.97243778],\n",
       "       [ -7.67905756,  -9.72613188],\n",
       "       [ -2.45702073,  -4.63488432],\n",
       "       [ -6.88789639,  -9.56121074],\n",
       "       [ -5.501265  ,  -9.46689524],\n",
       "       [ -1.88993375,  -7.14266011],\n",
       "       [ -5.8807856 , -10.08042549],\n",
       "       [ -4.60866703,  -8.03592184],\n",
       "       [ -7.40870471,  -9.04187389],\n",
       "       [ -5.78119491,  -8.39937371],\n",
       "       [ -2.35763375,  -6.00355703],\n",
       "       [ -6.47018447,  -8.31949008],\n",
       "       [ -3.4183265 ,  -6.87585301],\n",
       "       [ -6.3322852 ,  -9.83389625],\n",
       "       [ -8.20252877,  -7.99820138],\n",
       "       [ -2.45930593,  -5.89827351],\n",
       "       [ -5.96607734,  -9.78841063],\n",
       "       [ -4.58893118,  -4.57279757],\n",
       "       [ -5.60960678, -10.36013969],\n",
       "       [ -2.53201022,  -5.88619188],\n",
       "       [ -3.33282968,  -7.11222881],\n",
       "       [ -1.57221248,  -4.93743876],\n",
       "       [ -7.81124505, -10.41199908],\n",
       "       [ -5.83049591, -12.02324675],\n",
       "       [ -6.90860908, -10.91289548],\n",
       "       [ -2.90048629,  -4.6646424 ],\n",
       "       [ -5.47951406,  -9.50015933],\n",
       "       [ -3.13751318,  -5.5106062 ],\n",
       "       [ -5.36943601, -11.39312103],\n",
       "       [ -4.59053674,  -8.95434269],\n",
       "       [ -1.16862946,  -5.30638718],\n",
       "       [ -1.67073752,  -6.63368212],\n",
       "       [ -4.56172691, -10.12922374],\n",
       "       [ -2.57912759,  -3.43985212],\n",
       "       [ -4.88570438,  -5.64912878],\n",
       "       [ -7.00958332,  -6.81102722],\n",
       "       [ -4.70346246, -11.36624743],\n",
       "       [ -4.41878096,  -8.96747916],\n",
       "       [ -5.53481014, -11.71686355],\n",
       "       [ -6.41973975, -10.6593159 ],\n",
       "       [ -3.68933849,  -7.42701813],\n",
       "       [ -2.5602035 ,  -7.01698222],\n",
       "       [ -7.63877021,  -9.98359177],\n",
       "       [ -1.01280734,  -5.19941465],\n",
       "       [ -1.86719851,  -5.98635112],\n",
       "       [ -6.96222646, -10.30152931],\n",
       "       [ -3.13886787,  -5.36010969],\n",
       "       [ -2.0905207 ,  -6.09877601],\n",
       "       [ -1.39065888,  -5.84999459],\n",
       "       [ -3.95020237, -11.00002522],\n",
       "       [ -3.82994775,  -5.38210239],\n",
       "       [ -5.50744175,  -9.37619483],\n",
       "       [ -0.33720283,  -6.03054616],\n",
       "       [ -2.73892017,  -6.87873484],\n",
       "       [ -2.93121772,  -5.71418368],\n",
       "       [ -3.10508301,  -5.68752534],\n",
       "       [ -3.26937729,  -7.07690258],\n",
       "       [ -1.26540279,  -6.96978037],\n",
       "       [ -6.18765399, -10.23424319],\n",
       "       [ -5.33721887,  -7.98086043],\n",
       "       [ -0.20029477,  -4.54199835],\n",
       "       [ -8.45363631,  -7.76359009],\n",
       "       [ -1.76260372,  -5.45532846],\n",
       "       [ -3.45260926,  -4.86745715],\n",
       "       [ -5.59029348, -11.92520115],\n",
       "       [ -7.14016546,  -8.39453797],\n",
       "       [ -4.08904268, -11.54393231],\n",
       "       [ -7.0358807 , -10.29141347],\n",
       "       [ -0.71415356,  -4.87094625],\n",
       "       [ -5.34038941,  -9.59591182],\n",
       "       [ -2.66584717,  -6.55604266],\n",
       "       [ -6.67174396,  -9.47473963],\n",
       "       [ -5.48518553,  -9.56480072],\n",
       "       [ -6.83319865, -10.69916868],\n",
       "       [ -4.86131762, -10.03464558],\n",
       "       [ -2.93327359,  -5.2630971 ],\n",
       "       [ -1.70069691,  -6.98784227],\n",
       "       [ -4.86572183, -11.15246897],\n",
       "       [ -5.78954141,  -9.97495107],\n",
       "       [ -5.73753233,  -8.00290806],\n",
       "       [ -0.19885337,  -6.48489779],\n",
       "       [ -3.98747302,  -5.40120656],\n",
       "       [ -5.23892419,  -9.45706699],\n",
       "       [ -4.44643949,  -6.69007879],\n",
       "       [ -1.59818394,  -7.33024267],\n",
       "       [ -0.30663457,  -6.17018392],\n",
       "       [ -4.67763402,  -9.91776011],\n",
       "       [ -3.35834828,  -5.32219577],\n",
       "       [ -9.00924439, -10.18590373],\n",
       "       [ -7.07077065,  -8.43510927],\n",
       "       [ -1.10135984,  -4.25383712],\n",
       "       [ -2.39273161,  -5.60138936],\n",
       "       [ -1.22024392,  -5.87394967],\n",
       "       [ -4.66575874,  -8.79655623],\n",
       "       [ -4.89172425,  -3.75871438],\n",
       "       [ -2.09237263,  -7.8592543 ],\n",
       "       [ -1.35182562,  -6.02349879],\n",
       "       [ -6.54611331, -10.15869108],\n",
       "       [ -4.60168058,  -7.17145173],\n",
       "       [ -2.81887595,  -5.74013067],\n",
       "       [ -2.37196257,  -5.48364654],\n",
       "       [ -6.61011818, -10.55469578],\n",
       "       [ -6.94872381,  -9.43406593],\n",
       "       [ -2.27306001,  -6.00126507],\n",
       "       [ -6.23288936,  -9.63429109],\n",
       "       [ -5.11807234,  -9.48896934],\n",
       "       [ -2.72702781,  -5.4072883 ],\n",
       "       [ -2.20572636,  -5.70832663],\n",
       "       [ -8.23240849, -10.03760349],\n",
       "       [ -6.97989159,  -9.84416563],\n",
       "       [ -2.43897604,  -5.37922946],\n",
       "       [ -1.87275816,  -5.34220471],\n",
       "       [ -5.54969492,  -8.46434429],\n",
       "       [ -3.80755688,  -4.32008976],\n",
       "       [ -0.47925082,  -7.21202287],\n",
       "       [ -2.34349434,  -5.5397123 ],\n",
       "       [ -2.94006741,  -6.02780597],\n",
       "       [ -6.18066355,  -9.6363328 ],\n",
       "       [ -1.24751221,  -5.71828811],\n",
       "       [ -7.93545612, -10.42054818],\n",
       "       [ -6.08963485,  -8.63651108],\n",
       "       [ -7.48297963,  -9.60278388],\n",
       "       [ -2.22918731,  -6.0960031 ],\n",
       "       [ -3.08433381,  -5.62126852],\n",
       "       [ -1.69180675,  -6.17931144],\n",
       "       [ -1.99696281,  -4.90503808],\n",
       "       [ -3.94527445,  -5.829351  ],\n",
       "       [ -2.41160817,  -5.28555622],\n",
       "       [ -3.35899936,  -4.47059131],\n",
       "       [ -6.69952053, -10.42027956],\n",
       "       [ -6.66599133,  -8.17082587],\n",
       "       [ -2.99227277,  -4.2932052 ],\n",
       "       [ -7.19125665,  -8.132856  ],\n",
       "       [ -6.01835753,  -8.16330034],\n",
       "       [ -6.29768586,  -8.17235347],\n",
       "       [ -6.98616726,  -9.28139148],\n",
       "       [ -6.67952311, -10.47719379],\n",
       "       [ -5.51048238,  -8.92323516],\n",
       "       [ -5.64584222,  -9.04058011],\n",
       "       [ -2.9188424 ,  -3.67018003],\n",
       "       [ -4.68803745, -10.39331423],\n",
       "       [ -5.66659499,  -7.78261431],\n",
       "       [ -6.25512314,  -9.28374388],\n",
       "       [ -1.33032212,  -4.59753431],\n",
       "       [ -2.61523532,  -4.86046606],\n",
       "       [ -6.70622436,  -9.27607273],\n",
       "       [ -7.40424687, -10.90190567],\n",
       "       [ -7.23761406, -10.16036709],\n",
       "       [ -2.70732223,  -5.60812565],\n",
       "       [ -1.17787472,  -6.13280887],\n",
       "       [ -5.59888588, -10.60025283],\n",
       "       [ -1.92869259,  -5.38606309],\n",
       "       [ -1.70904398,  -6.07546616],\n",
       "       [ -3.99059643,  -6.01265704],\n",
       "       [ -7.03586165, -10.75867216],\n",
       "       [ -7.07397025, -10.1701641 ],\n",
       "       [ -4.41983393, -10.07579059],\n",
       "       [ -2.88980268,  -5.08695501],\n",
       "       [ -2.6134472 ,  -5.96816243],\n",
       "       [ -6.79886568,  -9.19750472],\n",
       "       [ -6.5181464 , -10.62783072],\n",
       "       [ -8.52788257,  -8.58968429],\n",
       "       [ -6.98954891,  -9.77749705],\n",
       "       [ -7.03924696,  -9.96454286],\n",
       "       [ -8.0197666 , -10.30615796],\n",
       "       [ -1.92929141,  -4.78984215],\n",
       "       [ -2.36297214,  -4.07907264],\n",
       "       [ -3.01522003,  -5.33476675],\n",
       "       [ -1.91317498,  -6.0213848 ],\n",
       "       [ -0.39895443,  -4.61967997],\n",
       "       [ -6.20418169,  -9.76998414],\n",
       "       [ -7.98794084,  -8.7772991 ],\n",
       "       [ -3.27265969,  -5.72010988],\n",
       "       [ -2.52827312,  -4.48373316],\n",
       "       [ -3.96534519,  -7.55203935],\n",
       "       [ -1.94779334,  -4.8430992 ],\n",
       "       [ -2.31332138,  -6.09510195],\n",
       "       [ -6.58476325,  -8.8967876 ],\n",
       "       [ -3.36544849,  -5.95375762],\n",
       "       [ -7.3715082 ,  -8.50722871],\n",
       "       [ -6.12954418,  -9.9692349 ],\n",
       "       [ -2.60333961,  -5.7469921 ]])"
      ]
     },
     "execution_count": 3,
     "metadata": {},
     "output_type": "execute_result"
    }
   ],
   "source": [
    "X # X has 2 features lets say x0 and x1"
   ]
  },
  {
   "cell_type": "code",
   "execution_count": 4,
   "id": "18be7885",
   "metadata": {
    "execution": {
     "iopub.execute_input": "2025-07-23T05:50:42.977047Z",
     "iopub.status.busy": "2025-07-23T05:50:42.976692Z",
     "iopub.status.idle": "2025-07-23T05:50:42.984160Z",
     "shell.execute_reply": "2025-07-23T05:50:42.983129Z"
    },
    "papermill": {
     "duration": 0.016258,
     "end_time": "2025-07-23T05:50:42.986143",
     "exception": false,
     "start_time": "2025-07-23T05:50:42.969885",
     "status": "completed"
    },
    "tags": []
   },
   "outputs": [
    {
     "data": {
      "text/plain": [
       "array([1, 0, 1, 1, 0, 1, 0, 0, 1, 1, 1, 1, 0, 0, 0, 1, 0, 1, 0, 1, 0, 1,\n",
       "       1, 0, 1, 1, 1, 1, 0, 1, 0, 1, 1, 0, 1, 0, 1, 0, 0, 0, 1, 1, 1, 0,\n",
       "       1, 0, 1, 1, 0, 0, 1, 0, 0, 1, 1, 1, 1, 1, 0, 0, 1, 0, 0, 1, 0, 0,\n",
       "       0, 1, 0, 1, 0, 0, 0, 0, 0, 0, 1, 1, 0, 1, 0, 0, 1, 1, 1, 1, 0, 1,\n",
       "       0, 1, 1, 1, 1, 0, 0, 1, 1, 1, 0, 0, 1, 0, 0, 0, 1, 0, 1, 1, 0, 0,\n",
       "       0, 1, 0, 0, 0, 1, 0, 0, 0, 1, 1, 0, 1, 1, 0, 0, 1, 1, 0, 0, 1, 0,\n",
       "       0, 0, 0, 1, 0, 1, 1, 1, 0, 0, 0, 0, 0, 0, 0, 1, 1, 0, 1, 1, 1, 1,\n",
       "       1, 1, 1, 0, 1, 1, 1, 0, 0, 1, 1, 1, 0, 0, 1, 0, 0, 0, 1, 1, 1, 0,\n",
       "       0, 1, 1, 1, 1, 1, 1, 0, 0, 0, 0, 0, 1, 1, 0, 0, 0, 0, 0, 1, 0, 1,\n",
       "       1, 0])"
      ]
     },
     "execution_count": 4,
     "metadata": {},
     "output_type": "execute_result"
    }
   ],
   "source": [
    "y"
   ]
  },
  {
   "cell_type": "code",
   "execution_count": 5,
   "id": "2daaf015",
   "metadata": {
    "execution": {
     "iopub.execute_input": "2025-07-23T05:50:42.998641Z",
     "iopub.status.busy": "2025-07-23T05:50:42.997917Z",
     "iopub.status.idle": "2025-07-23T05:50:43.336236Z",
     "shell.execute_reply": "2025-07-23T05:50:43.335029Z"
    },
    "papermill": {
     "duration": 0.347085,
     "end_time": "2025-07-23T05:50:43.338545",
     "exception": false,
     "start_time": "2025-07-23T05:50:42.991460",
     "status": "completed"
    },
    "tags": []
   },
   "outputs": [
    {
     "data": {
      "text/plain": [
       "<matplotlib.collections.PathCollection at 0x7b6b589d6c50>"
      ]
     },
     "execution_count": 5,
     "metadata": {},
     "output_type": "execute_result"
    },
    {
     "data": {
      "image/png": "[encoded data removed]",
      "text/plain": [
       "<Figure size 640x480 with 1 Axes>"
      ]
     },
     "metadata": {},
     "output_type": "display_data"
    }
   ],
   "source": [
    "plt.scatter(X[:,0],X[:,1],c=y)"
   ]
  },
  {
   "cell_type": "code",
   "execution_count": 6,
   "id": "f89e4ac1",
   "metadata": {
    "execution": {
     "iopub.execute_input": "2025-07-23T05:50:43.353489Z",
     "iopub.status.busy": "2025-07-23T05:50:43.352556Z",
     "iopub.status.idle": "2025-07-23T05:50:43.359845Z",
     "shell.execute_reply": "2025-07-23T05:50:43.358820Z"
    },
    "papermill": {
     "duration": 0.017054,
     "end_time": "2025-07-23T05:50:43.362103",
     "exception": false,
     "start_time": "2025-07-23T05:50:43.345049",
     "status": "completed"
    },
    "tags": []
   },
   "outputs": [],
   "source": [
    "lr = 0.01\n",
    "epochs= 100\n",
    "w=0\n",
    "b=0\n",
    "y = np.where(y==0,1,-1) # we have changed y in +1 and -1 to match with our constraints\n",
    "X_train,X_test, y_train, y_test= train_test_split(X,y,test_size=0.20,random_state=42)\n"
   ]
  },
  {
   "cell_type": "markdown",
   "id": "042da898",
   "metadata": {
    "papermill": {
     "duration": 0.005908,
     "end_time": "2025-07-23T05:50:43.374355",
     "exception": false,
     "start_time": "2025-07-23T05:50:43.368447",
     "status": "completed"
    },
    "tags": []
   },
   "source": [
    "After we devloped the equations to minimize ||W|| ^2 , we add lagrange's parameters and constraints, we get the following equation.\n",
    "\n",
    "\n",
    "\n",
    "\n"
   ]
  },
  {
   "cell_type": "markdown",
   "id": "ac371d73",
   "metadata": {
    "papermill": {
     "duration": 0.005801,
     "end_time": "2025-07-23T05:50:43.386243",
     "exception": false,
     "start_time": "2025-07-23T05:50:43.380442",
     "status": "completed"
    },
    "tags": []
   },
   "source": []
  },
  {
   "cell_type": "code",
   "execution_count": null,
   "id": "b9d701a4",
   "metadata": {
    "papermill": {
     "duration": 0.005789,
     "end_time": "2025-07-23T05:50:43.398465",
     "exception": false,
     "start_time": "2025-07-23T05:50:43.392676",
     "status": "completed"
    },
    "tags": []
   },
   "outputs": [],
   "source": []
  },
  {
   "cell_type": "code",
   "execution_count": 7,
   "id": "1d99e6a8",
   "metadata": {
    "execution": {
     "iopub.execute_input": "2025-07-23T05:50:43.412733Z",
     "iopub.status.busy": "2025-07-23T05:50:43.411970Z",
     "iopub.status.idle": "2025-07-23T05:50:43.419416Z",
     "shell.execute_reply": "2025-07-23T05:50:43.418305Z"
    },
    "papermill": {
     "duration": 0.017403,
     "end_time": "2025-07-23T05:50:43.421969",
     "exception": false,
     "start_time": "2025-07-23T05:50:43.404566",
     "status": "completed"
    },
    "tags": []
   },
   "outputs": [],
   "source": [
    "def svm_fit(X,y):\n",
    "    n_sample, n_features = X.shape\n",
    "    b=0\n",
    "    lr = 0.01\n",
    "    lagranges_ = 0.01\n",
    "    w= np.zeros(n_features)# vector must be of the same shape of the input vectors\n",
    "    \n",
    "    #initial weights(w) and bias(b) is 0, and at every epoch we learn and update the w and b. Our goal is to get w and b such that\n",
    "    #  for any new input vector v   w.v>=c if v is positive sample and w.v<=c if v is negative sample ( we have discuss this in classroom when I started mathematical intution of SVM)\n",
    "    # It will try to find best hyperplane by running number of epochs\n",
    "    for iteration in range(100):\n",
    "        for i, Xi in enumerate(X):\n",
    "            # yixiw-b≥1 (This is the constraint we have used to get the distance between support vectors x+ and x-(refer class notes.))\n",
    "            if y[i] * (np.dot(Xi,w) - b) >= 1 :#This condition is for all correct classification (positive or negative)\n",
    "                w =w - lr * (2 * lagranges_* w) # w = w + lr* (2λw - yixi)\n",
    "            else: \n",
    "                w =w - lr * (2 *lagranges_ * w - np.dot(Xi, y[i])) # w = w + lr* (2λw - yixi)\n",
    "                b = b - lr * y[i] # b = b - lr* (yi)\n",
    "       # plt.scatter(w[0],w[1])\n",
    "        return w, b\n",
    "\n",
    "\n"
   ]
  },
  {
   "cell_type": "code",
   "execution_count": 8,
   "id": "8ec90686",
   "metadata": {
    "execution": {
     "iopub.execute_input": "2025-07-23T05:50:43.437462Z",
     "iopub.status.busy": "2025-07-23T05:50:43.437102Z",
     "iopub.status.idle": "2025-07-23T05:50:43.442232Z",
     "shell.execute_reply": "2025-07-23T05:50:43.441212Z"
    },
    "papermill": {
     "duration": 0.015204,
     "end_time": "2025-07-23T05:50:43.444481",
     "exception": false,
     "start_time": "2025-07-23T05:50:43.429277",
     "status": "completed"
    },
    "tags": []
   },
   "outputs": [],
   "source": [
    "def predict(X, w,b):\n",
    "    pred = np.dot(X, w) - b \n",
    "    result = [1 if val > 0 else -1 for val in pred] # returning in the form of -1 and 1\n",
    "    return result"
   ]
  },
  {
   "cell_type": "code",
   "execution_count": 9,
   "id": "8f862d76",
   "metadata": {
    "execution": {
     "iopub.execute_input": "2025-07-23T05:50:43.459300Z",
     "iopub.status.busy": "2025-07-23T05:50:43.458903Z",
     "iopub.status.idle": "2025-07-23T05:50:43.471367Z",
     "shell.execute_reply": "2025-07-23T05:50:43.470067Z"
    },
    "papermill": {
     "duration": 0.023155,
     "end_time": "2025-07-23T05:50:43.473889",
     "exception": false,
     "start_time": "2025-07-23T05:50:43.450734",
     "status": "completed"
    },
    "tags": []
   },
   "outputs": [],
   "source": [
    "X.shape # where 200 is number of samples and 2 is number of features\n",
    "X_train,X_test, y_train, y_test= train_test_split(X,y,test_size=0.20,random_state=42)\n",
    "w,b = svm_fit(X_train,y_train)\n",
    "y_pred = predict(X_test,w,b)"
   ]
  },
  {
   "cell_type": "code",
   "execution_count": 10,
   "id": "446c2a4e",
   "metadata": {
    "execution": {
     "iopub.execute_input": "2025-07-23T05:50:43.488620Z",
     "iopub.status.busy": "2025-07-23T05:50:43.488248Z",
     "iopub.status.idle": "2025-07-23T05:50:43.496868Z",
     "shell.execute_reply": "2025-07-23T05:50:43.495558Z"
    },
    "papermill": {
     "duration": 0.018673,
     "end_time": "2025-07-23T05:50:43.499126",
     "exception": false,
     "start_time": "2025-07-23T05:50:43.480453",
     "status": "completed"
    },
    "tags": []
   },
   "outputs": [
    {
     "data": {
      "text/plain": [
       "0.725"
      ]
     },
     "execution_count": 10,
     "metadata": {},
     "output_type": "execute_result"
    }
   ],
   "source": [
    "accuracy = accuracy_score(y_pred, y_test)\n",
    "accuracy"
   ]
  },
  {
   "cell_type": "code",
   "execution_count": 11,
   "id": "16dd68e3",
   "metadata": {
    "execution": {
     "iopub.execute_input": "2025-07-23T05:50:43.514329Z",
     "iopub.status.busy": "2025-07-23T05:50:43.513914Z",
     "iopub.status.idle": "2025-07-23T05:50:43.519739Z",
     "shell.execute_reply": "2025-07-23T05:50:43.518502Z"
    },
    "papermill": {
     "duration": 0.015979,
     "end_time": "2025-07-23T05:50:43.522005",
     "exception": false,
     "start_time": "2025-07-23T05:50:43.506026",
     "status": "completed"
    },
    "tags": []
   },
   "outputs": [],
   "source": [
    "#plt.scatter(X[:,0],X[:,1],c=y)\n"
   ]
  },
  {
   "cell_type": "code",
   "execution_count": 12,
   "id": "a1fc001d",
   "metadata": {
    "execution": {
     "iopub.execute_input": "2025-07-23T05:50:43.536445Z",
     "iopub.status.busy": "2025-07-23T05:50:43.536043Z",
     "iopub.status.idle": "2025-07-23T05:50:43.800858Z",
     "shell.execute_reply": "2025-07-23T05:50:43.799855Z"
    },
    "papermill": {
     "duration": 0.274888,
     "end_time": "2025-07-23T05:50:43.803443",
     "exception": false,
     "start_time": "2025-07-23T05:50:43.528555",
     "status": "completed"
    },
    "tags": []
   },
   "outputs": [
    {
     "data": {
      "text/plain": [
       "<matplotlib.collections.PathCollection at 0x7b6b588e0820>"
      ]
     },
     "execution_count": 12,
     "metadata": {},
     "output_type": "execute_result"
    },
    {
     "data": {
      "image/png": "[encoded data removed]",
      "text/plain": [
       "<Figure size 640x480 with 1 Axes>"
      ]
     },
     "metadata": {},
     "output_type": "display_data"
    }
   ],
   "source": [
    "from sklearn.datasets import make_moons\n",
    "X1, y1 = make_moons(n_samples=100, noise=.05)\n",
    "plt.scatter(X1[:,0],X1[:,1],c=y1)\n"
   ]
  },
  {
   "cell_type": "code",
   "execution_count": 13,
   "id": "75c013bf",
   "metadata": {
    "execution": {
     "iopub.execute_input": "2025-07-23T05:50:43.819838Z",
     "iopub.status.busy": "2025-07-23T05:50:43.819477Z",
     "iopub.status.idle": "2025-07-23T05:50:43.830174Z",
     "shell.execute_reply": "2025-07-23T05:50:43.828899Z"
    },
    "papermill": {
     "duration": 0.021634,
     "end_time": "2025-07-23T05:50:43.832395",
     "exception": false,
     "start_time": "2025-07-23T05:50:43.810761",
     "status": "completed"
    },
    "tags": []
   },
   "outputs": [
    {
     "data": {
      "text/plain": [
       "0.5"
      ]
     },
     "execution_count": 13,
     "metadata": {},
     "output_type": "execute_result"
    }
   ],
   "source": [
    "# Lets apply same linear classifier on non linear data. the accuracy is less due to non linearity\n",
    "X1_train,X1_test, y1_train, y1_test= train_test_split(X1,y1,test_size=0.20,random_state=42)\n",
    "w1,b1 = svm_fit(X1_train,y1_train)\n",
    "y1_pred = predict(X1_test,w1,b1)\n",
    "accuracy1 = accuracy_score(y1_pred, y1_test)\n",
    "accuracy1"
   ]
  },
  {
   "cell_type": "code",
   "execution_count": 14,
   "id": "bd783d1d",
   "metadata": {
    "execution": {
     "iopub.execute_input": "2025-07-23T05:50:43.850047Z",
     "iopub.status.busy": "2025-07-23T05:50:43.849728Z",
     "iopub.status.idle": "2025-07-23T05:50:44.071943Z",
     "shell.execute_reply": "2025-07-23T05:50:44.070829Z"
    },
    "papermill": {
     "duration": 0.234469,
     "end_time": "2025-07-23T05:50:44.074139",
     "exception": false,
     "start_time": "2025-07-23T05:50:43.839670",
     "status": "completed"
    },
    "tags": []
   },
   "outputs": [
    {
     "data": {
      "text/plain": [
       "<matplotlib.collections.PathCollection at 0x7b6b58953f70>"
      ]
     },
     "execution_count": 14,
     "metadata": {},
     "output_type": "execute_result"
    },
    {
     "data": {
      "image/png": "[encoded data removed]",
      "text/plain": [
       "<Figure size 640x480 with 1 Axes>"
      ]
     },
     "metadata": {},
     "output_type": "display_data"
    }
   ],
   "source": [
    "from sklearn.datasets import make_circles\n",
    "X2,y2= make_circles(n_samples=100, noise=0.05)\n",
    "plt.scatter(X2[:,0],X2[:,1],c=y2)"
   ]
  },
  {
   "cell_type": "code",
   "execution_count": 15,
   "id": "ff9b19cc",
   "metadata": {
    "execution": {
     "iopub.execute_input": "2025-07-23T05:50:44.091729Z",
     "iopub.status.busy": "2025-07-23T05:50:44.091393Z",
     "iopub.status.idle": "2025-07-23T05:50:44.102843Z",
     "shell.execute_reply": "2025-07-23T05:50:44.101745Z"
    },
    "papermill": {
     "duration": 0.022537,
     "end_time": "2025-07-23T05:50:44.104884",
     "exception": false,
     "start_time": "2025-07-23T05:50:44.082347",
     "status": "completed"
    },
    "tags": []
   },
   "outputs": [
    {
     "data": {
      "text/plain": [
       "0.6"
      ]
     },
     "execution_count": 15,
     "metadata": {},
     "output_type": "execute_result"
    }
   ],
   "source": [
    "# Lets apply same linear classifier on circular data. the accuracy is less due to non linearity\n",
    "X2_train,X2_test, y2_train, y2_test= train_test_split(X2,y2,test_size=0.20,random_state=42)\n",
    "w2,b2 = svm_fit(X2_train,y2_train)\n",
    "y2_pred = predict(X2_test,w2,b2)\n",
    "accuracy2 = accuracy_score(y2_pred, y2_test)\n",
    "accuracy2"
   ]
  },
  {
   "cell_type": "markdown",
   "id": "69067240",
   "metadata": {
    "papermill": {
     "duration": 0.007992,
     "end_time": "2025-07-23T05:50:44.121122",
     "exception": false,
     "start_time": "2025-07-23T05:50:44.113130",
     "status": "completed"
    },
    "tags": []
   },
   "source": [
    "# The given code will generate linear classifir for all given examples. "
   ]
  },
  {
   "cell_type": "markdown",
   "id": "004ffa94",
   "metadata": {
    "papermill": {
     "duration": 0.008148,
     "end_time": "2025-07-23T05:50:44.137419",
     "exception": false,
     "start_time": "2025-07-23T05:50:44.129271",
     "status": "completed"
    },
    "tags": []
   },
   "source": [
    "# Excercise 1 \n",
    " # Plot the classifire line for all linear and non-linear data"
   ]
  },
  {
   "cell_type": "markdown",
   "id": "7680e2e0",
   "metadata": {
    "papermill": {
     "duration": 0.007826,
     "end_time": "2025-07-23T05:50:44.153487",
     "exception": false,
     "start_time": "2025-07-23T05:50:44.145661",
     "status": "completed"
    },
    "tags": []
   },
   "source": [
    "# Excercise 2\n",
    " # Use the SVM classifier from SK Learn. "
   ]
  },
  {
   "cell_type": "markdown",
   "id": "7db1eaf9",
   "metadata": {
    "papermill": {
     "duration": 0.008,
     "end_time": "2025-07-23T05:50:44.171013",
     "exception": false,
     "start_time": "2025-07-23T05:50:44.163013",
     "status": "completed"
    },
    "tags": []
   },
   "source": [
    "# Excercise 3 \n",
    " # Use the SVM classifier from SK Learn with different kernal function which is capable to classify non-linear data."
   ]
  },
  {
   "cell_type": "code",
   "execution_count": null,
   "id": "9ec692e5",
   "metadata": {
    "papermill": {
     "duration": 0.007754,
     "end_time": "2025-07-23T05:50:44.186767",
     "exception": false,
     "start_time": "2025-07-23T05:50:44.179013",
     "status": "completed"
    },
    "tags": []
   },
   "outputs": [],
   "source": []
  },
  {
   "cell_type": "markdown",
   "id": "0893dbfa",
   "metadata": {
    "papermill": {
     "duration": 0.008247,
     "end_time": "2025-07-23T05:50:44.203622",
     "exception": false,
     "start_time": "2025-07-23T05:50:44.195375",
     "status": "completed"
    },
    "tags": []
   },
   "source": []
  },
  {
   "cell_type": "markdown",
   "id": "8d8a6793",
   "metadata": {
    "papermill": {
     "duration": 0.007912,
     "end_time": "2025-07-23T05:50:44.220189",
     "exception": false,
     "start_time": "2025-07-23T05:50:44.212277",
     "status": "completed"
    },
    "tags": []
   },
   "source": []
  },
  {
   "cell_type": "code",
   "execution_count": null,
   "id": "86324a91",
   "metadata": {
    "papermill": {
     "duration": 0.007993,
     "end_time": "2025-07-23T05:50:44.236283",
     "exception": false,
     "start_time": "2025-07-23T05:50:44.228290",
     "status": "completed"
    },
    "tags": []
   },
   "outputs": [],
   "source": []
  },
  {
   "cell_type": "markdown",
   "id": "89129c55",
   "metadata": {
    "papermill": {
     "duration": 0.008643,
     "end_time": "2025-07-23T05:50:44.253576",
     "exception": false,
     "start_time": "2025-07-23T05:50:44.244933",
     "status": "completed"
    },
    "tags": []
   },
   "source": []
  },
  {
   "cell_type": "code",
   "execution_count": null,
   "id": "d040dc0e",
   "metadata": {
    "papermill": {
     "duration": 0.007927,
     "end_time": "2025-07-23T05:50:44.269688",
     "exception": false,
     "start_time": "2025-07-23T05:50:44.261761",
     "status": "completed"
    },
    "tags": []
   },
   "outputs": [],
   "source": []
  },
  {
   "cell_type": "code",
   "execution_count": null,
   "id": "5df65195",
   "metadata": {
    "papermill": {
     "duration": 0.007949,
     "end_time": "2025-07-23T05:50:44.286125",
     "exception": false,
     "start_time": "2025-07-23T05:50:44.278176",
     "status": "completed"
    },
    "tags": []
   },
   "outputs": [],
   "source": []
  }
 ],
 "metadata": {
  "kaggle": {
   "accelerator": "none",
   "dataSources": [],
   "dockerImageVersionId": 30746,
   "isGpuEnabled": false,
   "isInternetEnabled": true,
   "language": "python",
   "sourceType": "notebook"
  },
  "kernelspec": {
   "display_name": "Python 3",
   "language": "python",
   "name": "python3"
  },
  "language_info": {
   "codemirror_mode": {
    "name": "ipython",
    "version": 3
   },
   "file_extension": ".py",
   "mimetype": "text/x-python",
   "name": "python",
   "nbconvert_exporter": "python",
   "pygments_lexer": "ipython3",
   "version": "3.10.13"
  },
  "papermill": {
   "default_parameters": {},
   "duration": 8.18607,
   "end_time": "2025-07-23T05:50:44.915116",
   "environment_variables": {},
   "exception": null,
   "input_path": "__notebook__.ipynb",
   "output_path": "__notebook__.ipynb",
   "parameters": {},
   "start_time": "2025-07-23T05:50:36.729046",
   "version": "2.5.0"
  }
 },
 "nbformat": 4,
 "nbformat_minor": 5
}

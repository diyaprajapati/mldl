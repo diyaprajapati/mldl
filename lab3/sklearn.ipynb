{
 "cells": [
  {
   "cell_type": "code",
   "execution_count": 1,
   "id": "017b0498",
   "metadata": {},
   "outputs": [],
   "source": [
    "from sklearn import neighbors, datasets, preprocessing\n",
    "from sklearn.model_selection import train_test_split\n",
    "from sklearn.metrics import accuracy_score\n",
    "iris = datasets.load_iris()\n",
    "X, y = iris.data[:, :2], iris.target\n",
    "X_train, X_test, y_train, y_test = train_test_split(X, y, random_state=42)\n",
    "scaler = preprocessing.StandardScaler().fit(X_train)\n",
    "X_train = scaler.transform(X_train)\n",
    "X_test = scaler.transform(X_test)"
   ]
  },
  {
   "cell_type": "code",
   "execution_count": 2,
   "id": "12b11c05",
   "metadata": {},
   "outputs": [
    {
     "data": {
      "text/plain": [
       "array([[-1.01827123,  1.2864604 ],\n",
       "       [-0.7730102 ,  2.43545215],\n",
       "       [-0.03722712, -0.78172474],\n",
       "       [ 0.20803391,  0.8268637 ],\n",
       "       [ 1.06644751,  0.13746866],\n",
       "       [-0.52774918,  1.97585545],\n",
       "       [-0.52774918,  1.51625875],\n",
       "       [-0.40511866, -1.47111979],\n",
       "       [ 0.57592545, -0.55192639],\n",
       "       [ 0.69855596,  0.13746866],\n",
       "       [ 0.94381699, -0.09232969],\n",
       "       [ 1.67960008,  1.2864604 ],\n",
       "       [-0.15985763, -0.32212804],\n",
       "       [ 2.17012213, -0.09232969],\n",
       "       [-0.28248815, -0.09232969],\n",
       "       [-0.89564072,  1.05666205],\n",
       "       [ 2.29275265, -0.55192639],\n",
       "       [-0.03722712, -0.78172474],\n",
       "       [-0.7730102 ,  0.8268637 ],\n",
       "       [-1.01827123,  1.05666205],\n",
       "       [-0.89564072,  1.7460571 ],\n",
       "       [-1.01827123, -2.39031318],\n",
       "       [ 0.57592545, -0.78172474],\n",
       "       [-1.26353226,  0.8268637 ],\n",
       "       [-1.01827123, -0.09232969],\n",
       "       [-0.89564072,  0.59706535],\n",
       "       [-0.28248815, -0.78172474],\n",
       "       [-0.89564072,  0.8268637 ],\n",
       "       [-0.15985763, -0.09232969],\n",
       "       [ 2.29275265,  1.7460571 ],\n",
       "       [-1.50879329,  0.367267  ],\n",
       "       [ 0.45329494, -0.32212804],\n",
       "       [-0.15985763, -1.24132144],\n",
       "       [-0.40511866,  2.66525049],\n",
       "       [ 0.20803391, -0.09232969],\n",
       "       [-0.03722712, -0.78172474],\n",
       "       [ 0.20803391, -1.93071649],\n",
       "       [-0.52774918, -0.09232969],\n",
       "       [ 0.45329494,  0.8268637 ],\n",
       "       [-0.40511866, -1.70091814],\n",
       "       [-0.52774918,  1.97585545],\n",
       "       [-1.01827123, -1.70091814],\n",
       "       [ 0.69855596, -0.78172474],\n",
       "       [-1.01827123,  0.59706535],\n",
       "       [-1.01827123,  0.367267  ],\n",
       "       [-0.40511866, -1.47111979],\n",
       "       [ 1.06644751, -0.09232969],\n",
       "       [-1.14090175,  0.13746866],\n",
       "       [-0.03722712, -0.55192639],\n",
       "       [-1.01827123,  0.8268637 ],\n",
       "       [-1.01827123,  1.05666205],\n",
       "       [ 0.08540339,  0.367267  ],\n",
       "       [-0.89564072, -1.24132144],\n",
       "       [ 1.31170853,  0.367267  ],\n",
       "       [ 0.20803391, -0.78172474],\n",
       "       [ 0.33066442, -1.01152309],\n",
       "       [ 2.29275265, -0.09232969],\n",
       "       [-0.40511866, -1.24132144],\n",
       "       [-1.75405432, -0.32212804],\n",
       "       [-1.87668483, -0.09232969],\n",
       "       [ 0.20803391, -1.93071649],\n",
       "       [ 1.67960008,  0.367267  ],\n",
       "       [-1.50879329,  0.13746866],\n",
       "       [-0.89564072,  1.05666205],\n",
       "       [-1.75405432, -0.09232969],\n",
       "       [ 0.57592545, -1.24132144],\n",
       "       [ 0.57592545,  0.8268637 ],\n",
       "       [-1.50879329,  0.8268637 ],\n",
       "       [ 1.18907802, -0.09232969],\n",
       "       [ 0.57592545,  0.59706535],\n",
       "       [-1.38616278,  0.367267  ],\n",
       "       [ 0.33066442, -0.32212804],\n",
       "       [ 0.82118648, -0.55192639],\n",
       "       [ 0.45329494, -0.55192639],\n",
       "       [ 1.43433905,  0.367267  ],\n",
       "       [ 0.69855596,  0.367267  ],\n",
       "       [-0.89564072,  1.7460571 ],\n",
       "       [ 1.31170853,  0.13746866],\n",
       "       [ 0.08540339, -0.09232969],\n",
       "       [ 0.82118648, -0.09232969],\n",
       "       [-0.15985763, -1.01152309],\n",
       "       [-0.7730102 , -0.78172474],\n",
       "       [ 0.33066442, -0.09232969],\n",
       "       [-1.6314238 , -1.70091814],\n",
       "       [ 0.94381699, -0.32212804],\n",
       "       [-0.40511866, -1.01152309],\n",
       "       [-0.65037969,  1.51625875],\n",
       "       [-0.28248815, -0.09232969],\n",
       "       [ 1.80223059, -0.32212804],\n",
       "       [ 1.06644751,  0.59706535],\n",
       "       [-0.89564072,  1.51625875],\n",
       "       [-1.14090175, -1.47111979],\n",
       "       [ 1.06644751,  0.59706535],\n",
       "       [ 1.67960008, -0.09232969],\n",
       "       [-1.14090175,  1.2864604 ],\n",
       "       [ 1.06644751,  0.13746866],\n",
       "       [-1.14090175, -0.09232969],\n",
       "       [ 1.31170853,  0.13746866],\n",
       "       [ 1.9248611 , -0.55192639],\n",
       "       [ 0.57592545, -0.32212804],\n",
       "       [-0.15985763, -0.55192639],\n",
       "       [ 0.82118648, -0.09232969],\n",
       "       [ 0.57592545, -1.70091814],\n",
       "       [ 0.69855596, -0.32212804],\n",
       "       [-0.28248815, -0.55192639],\n",
       "       [ 0.08540339, -0.09232969],\n",
       "       [-0.52774918,  0.8268637 ],\n",
       "       [ 0.33066442, -0.55192639],\n",
       "       [-1.14090175, -1.24132144],\n",
       "       [-0.03722712,  2.2056538 ],\n",
       "       [-0.03722712, -1.01152309],\n",
       "       [ 1.55696956, -0.09232969]])"
      ]
     },
     "execution_count": 2,
     "metadata": {},
     "output_type": "execute_result"
    }
   ],
   "source": [
    "X_train"
   ]
  },
  {
   "cell_type": "code",
   "execution_count": 3,
   "id": "dcceb72f",
   "metadata": {},
   "outputs": [],
   "source": [
    "from sklearn.preprocessing import Normalizer\n",
    "scaler = Normalizer().fit(X_train)\n",
    "normalized_X = scaler.transform(X_train)\n",
    "normalized_X_test = scaler.transform(X_test)"
   ]
  },
  {
   "cell_type": "code",
   "execution_count": 4,
   "id": "d66cdfdb",
   "metadata": {},
   "outputs": [],
   "source": [
    "from sklearn.preprocessing import Binarizer\n",
    "binarizer = Binarizer(threshold=0.0).fit(X)\n",
    "binary_X = binarizer.transform(X)"
   ]
  },
  {
   "cell_type": "code",
   "execution_count": 5,
   "id": "37e1f195",
   "metadata": {},
   "outputs": [],
   "source": [
    "from sklearn.preprocessing import LabelEncoder\n",
    "enc = LabelEncoder()\n",
    "y = enc.fit_transform(y)"
   ]
  },
  {
   "cell_type": "code",
   "execution_count": 6,
   "id": "5cf45f6c",
   "metadata": {},
   "outputs": [],
   "source": [
    "from sklearn.model_selection import train_test_split\n",
    "X_train, X_test, y_train, y_test = train_test_split(X,y,random_state=0)"
   ]
  },
  {
   "cell_type": "code",
   "execution_count": 9,
   "id": "377262bc",
   "metadata": {},
   "outputs": [],
   "source": [
    "from sklearn.linear_model import LinearRegression\n",
    "lr = LinearRegression()"
   ]
  },
  {
   "cell_type": "code",
   "execution_count": 11,
   "id": "e0b5d98a",
   "metadata": {},
   "outputs": [],
   "source": [
    "# fit the model with training data\n",
    "lr.fit(X_train, y_train)\n",
    "\n",
    "# now predict on test data\n",
    "y_pred = lr.predict(X_test)"
   ]
  },
  {
   "cell_type": "code",
   "execution_count": 14,
   "id": "a065f9f8",
   "metadata": {},
   "outputs": [
    {
     "name": "stdout",
     "output_type": "stream",
     "text": [
      "MSE: 0.2011787200597151\n",
      "MAE: 0.35708427113858093\n",
      "R²: 0.645729180772892\n"
     ]
    }
   ],
   "source": [
    "from sklearn.metrics import mean_squared_error, mean_absolute_error, r2_score\n",
    "\n",
    "print(\"MSE:\", mean_squared_error(y_test, y_pred))\n",
    "print(\"MAE:\", mean_absolute_error(y_test, y_pred))\n",
    "print(\"R²:\", r2_score(y_test, y_pred))\n"
   ]
  },
  {
   "cell_type": "code",
   "execution_count": 15,
   "id": "7a4ed9c4",
   "metadata": {},
   "outputs": [
    {
     "name": "stdout",
     "output_type": "stream",
     "text": [
      "[[13  0  0]\n",
      " [ 0 11  5]\n",
      " [ 0  3  6]]\n"
     ]
    }
   ],
   "source": [
    "from sklearn.linear_model import LogisticRegression\n",
    "clf = LogisticRegression()\n",
    "clf.fit(X_train, y_train)\n",
    "y_pred = clf.predict(X_test)\n",
    "\n",
    "from sklearn.metrics import confusion_matrix\n",
    "print(confusion_matrix(y_test, y_pred))\n"
   ]
  }
 ],
 "metadata": {
  "kernelspec": {
   "display_name": "Python 3",
   "language": "python",
   "name": "python3"
  },
  "language_info": {
   "codemirror_mode": {
    "name": "ipython",
    "version": 3
   },
   "file_extension": ".py",
   "mimetype": "text/x-python",
   "name": "python",
   "nbconvert_exporter": "python",
   "pygments_lexer": "ipython3",
   "version": "3.11.9"
  }
 },
 "nbformat": 4,
 "nbformat_minor": 5
}

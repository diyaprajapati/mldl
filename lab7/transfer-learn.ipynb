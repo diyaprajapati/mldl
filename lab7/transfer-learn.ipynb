{
 "cells": [
  {
   "cell_type": "code",
   "execution_count": null,
   "id": "818e7be5",
   "metadata": {},
   "outputs": [],
   "source": [
    "import os, random, numpy as np, tensorflow as tf\n",
    "from tensorflow import keras\n",
    "from tensorflow.keras import layers\n",
    "from sklearn.metrics import classification_report, confusion_matrix, roc_auc_score\n",
    "from sklearn.metrics import precision_recall_fscore_support"
   ]
  },
  {
   "cell_type": "code",
   "execution_count": null,
   "id": "61dd590f",
   "metadata": {},
   "outputs": [],
   "source": [
    "SEED = 42\n",
    "random.seed(SEED); np.random.seed(SEED); tf.random.set_seed(SEED)"
   ]
  },
  {
   "cell_type": "code",
   "execution_count": null,
   "id": "e06cc1a2",
   "metadata": {},
   "outputs": [],
   "source": [
    "# 1) Load again to keep cells independent\n",
    "(num_classes, base_input_shape) = (10, (32,32,3))\n",
    "(x_train, y_train), (x_test, y_test) = keras.datasets.cifar10.load_data()\n",
    "y_train = y_train.flatten()\n",
    "y_test  = y_test.flatten()"
   ]
  },
  {
   "cell_type": "code",
   "execution_count": null,
   "id": "6c935dad",
   "metadata": {},
   "outputs": [],
   "source": [
    "from sklearn.model_selection import train_test_split\n",
    "x_train, x_val, y_train, y_val = train_test_split(\n",
    "    x_train, y_train, test_size=0.1, random_state=SEED, stratify=y_train\n",
    ")"
   ]
  },
  {
   "cell_type": "code",
   "execution_count": null,
   "id": "81ba6cd0",
   "metadata": {},
   "outputs": [],
   "source": [
    "# EfficientNetB0 expects 224x224 + specific preprocessing\n",
    "IMG_SIZE = 224\n",
    "preprocess = keras.applications.efficientnet.preprocess_input"
   ]
  },
  {
   "cell_type": "code",
   "execution_count": null,
   "id": "b02f78e6",
   "metadata": {},
   "outputs": [],
   "source": [
    "def make_ds(x, y, train=False, batch_size=64):\n",
    "    ds = tf.data.Dataset.from_tensor_slices((x, y))\n",
    "    if train:\n",
    "        ds = ds.shuffle(10000, seed=SEED)\n",
    "    # Resize and preprocess\n",
    "    ds = ds.map(lambda a, b: (tf.image.resize(a, (IMG_SIZE, IMG_SIZE)), b),\n",
    "                num_parallel_calls=tf.data.AUTOTUNE)\n",
    "    ds = ds.map(lambda a, b: (preprocess(a), b), num_parallel_calls=tf.data.AUTOTUNE)\n",
    "    if train:\n",
    "        # Light augmentation on the fly\n",
    "        aug = keras.Sequential([\n",
    "            layers.RandomFlip(\"horizontal\"),\n",
    "            layers.RandomRotation(0.05),\n",
    "            layers.RandomZoom(0.1),\n",
    "        ])\n",
    "        ds = ds.map(lambda a, b: (aug(a, training=True), b), num_parallel_calls=tf.data.AUTOTUNE)\n",
    "    ds = ds.batch(batch_size).prefetch(tf.data.AUTOTUNE)\n",
    "    return ds"
   ]
  },
  {
   "cell_type": "code",
   "execution_count": null,
   "id": "40fd70f3",
   "metadata": {},
   "outputs": [],
   "source": [
    "train_ds = make_ds(x_train, y_train, train=True, batch_size=128)\n",
    "val_ds   = make_ds(x_val,   y_val,   train=False, batch_size=128)\n",
    "test_ds  = make_ds(x_test,  y_test,  train=False, batch_size=128)"
   ]
  },
  {
   "cell_type": "code",
   "execution_count": null,
   "id": "1b93f3b6",
   "metadata": {},
   "outputs": [],
   "source": [
    "# 2) Build transfer learning model\n",
    "base = keras.applications.EfficientNetB0(\n",
    "    include_top=False, weights=\"imagenet\", input_shape=(IMG_SIZE, IMG_SIZE, 3)\n",
    ")\n",
    "base.trainable = False  # freeze base for warmup"
   ]
  },
  {
   "cell_type": "code",
   "execution_count": null,
   "id": "bb84ec34",
   "metadata": {},
   "outputs": [],
   "source": [
    "inputs = keras.Input(shape=(IMG_SIZE, IMG_SIZE, 3))\n",
    "x = inputs\n",
    "x = base(x, training=False)\n",
    "x = layers.GlobalAveragePooling2D()(x)\n",
    "x = layers.Dropout(0.3)(x)\n",
    "outputs = layers.Dense(num_classes, activation=\"softmax\")(x)\n",
    "model_tl = keras.Model(inputs, outputs, name=\"efficientnetb0_cifar10\")\n",
    "\n",
    "model_tl.compile(\n",
    "    optimizer=keras.optimizers.Adam(1e-3),\n",
    "    loss=\"sparse_categorical_crossentropy\",\n",
    "    metrics=[\"accuracy\"]\n",
    ")\n",
    "model_tl.summary()"
   ]
  },
  {
   "cell_type": "code",
   "execution_count": null,
   "id": "af24e1c1",
   "metadata": {},
   "outputs": [],
   "source": [
    "# 3) Warmup training (head only)\n",
    "warmup = model_tl.fit(\n",
    "    train_ds, validation_data=val_ds,\n",
    "    epochs=5, verbose=2\n",
    ")"
   ]
  },
  {
   "cell_type": "code",
   "execution_count": null,
   "id": "99ef7c30",
   "metadata": {},
   "outputs": [],
   "source": [
    "# 4) Fine-tune: unfreeze top of the base model\n",
    "for layer in base.layers[-50:]:\n",
    "    if not isinstance(layer, layers.BatchNormalization):\n",
    "        layer.trainable = True\n",
    "\n",
    "model_tl.compile(\n",
    "    optimizer=keras.optimizers.Adam(1e-4),\n",
    "    loss=\"sparse_categorical_crossentropy\",\n",
    "    metrics=[\"accuracy\"]\n",
    ")"
   ]
  },
  {
   "cell_type": "code",
   "execution_count": null,
   "id": "3a50eb43",
   "metadata": {},
   "outputs": [],
   "source": [
    "early = keras.callbacks.EarlyStopping(patience=5, restore_best_weights=True, monitor=\"val_accuracy\")\n",
    "fine = model_tl.fit(\n",
    "    train_ds, validation_data=val_ds,\n",
    "    epochs=20, callbacks=[early], verbose=2\n",
    ")"
   ]
  },
  {
   "cell_type": "code",
   "execution_count": null,
   "id": "1875585f",
   "metadata": {},
   "outputs": [],
   "source": [
    "# 5) Evaluate + Metrics\n",
    "probs = model_tl.predict(test_ds, verbose=0)\n",
    "y_pred = probs.argmax(axis=1)"
   ]
  },
  {
   "cell_type": "code",
   "execution_count": null,
   "id": "6899f83c",
   "metadata": {},
   "outputs": [],
   "source": [
    "# Bring true labels aligned with batched dataset order\n",
    "y_true_list = []\n",
    "for _, yb in test_ds:\n",
    "    y_true_list.append(yb.numpy())\n",
    "y_true = np.concatenate(y_true_list, axis=0)\n",
    "\n",
    "acc = (y_pred == y_true).mean()\n",
    "print(f\"[EfficientNetB0 TL] Test Accuracy: {acc:.4f}\")\n",
    "\n",
    "print(\"\\nClassification report (per-class precision/recall/F1):\")\n",
    "print(classification_report(y_true, y_pred, digits=4))\n",
    "\n",
    "cm = confusion_matrix(y_true, y_pred)\n",
    "print(\"Confusion matrix:\\n\", cm)\n",
    "\n",
    "prec, rec, f1, _ = precision_recall_fscore_support(y_true, y_pred, average='macro')\n",
    "print(f\"Macro Precision: {prec:.4f} | Macro Recall: {rec:.4f} | Macro F1: {f1:.4f}\")\n",
    "prec, rec, f1, _ = precision_recall_fscore_support(y_true, y_pred, average='micro')\n",
    "print(f\"Micro Precision: {prec:.4f} | Micro Recall: {rec:.4f} | Micro F1: {f1:.4f}\")"
   ]
  },
  {
   "cell_type": "code",
   "execution_count": null,
   "id": "04596df0",
   "metadata": {},
   "outputs": [],
   "source": [
    "# ROC-AUC (one-vs-rest)\n",
    "y_true_oh = keras.utils.to_categorical(y_true, num_classes)\n",
    "try:\n",
    "    auc_ovr = roc_auc_score(y_true_oh, probs, average=\"macro\", multi_class=\"ovr\")\n",
    "    auc_ovo = roc_auc_score(y_true_oh, probs, average=\"macro\", multi_class=\"ovo\")\n",
    "    print(f\"ROC-AUC (macro, OVR): {auc_ovr:.4f} | ROC-AUC (macro, OVO): {auc_ovo:.4f}\")\n",
    "except Exception as e:\n",
    "    print(\"ROC-AUC could not be computed:\", e)"
   ]
  }
 ],
 "metadata": {
  "language_info": {
   "name": "python"
  }
 },
 "nbformat": 4,
 "nbformat_minor": 5
}
